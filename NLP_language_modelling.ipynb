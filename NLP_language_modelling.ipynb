{
  "cells": [
    {
      "cell_type": "markdown",
      "metadata": {
        "id": "d0ADTojbpfLt"
      },
      "source": [
        "<p style=\"align: center;\"><img src=\"https://static.tildacdn.com/tild6636-3531-4239-b465-376364646465/Deep_Learning_School.png\" width=\"400\"></p>\n",
        "\n",
        "# Домашнее задание. Обучение языковой модели с помощью LSTM (10 баллов)"
      ]
    },
    {
      "cell_type": "markdown",
      "metadata": {
        "id": "ldHSmYY6p_mZ"
      },
      "source": [
        "В этом задании Вам предстоит обучить языковую модель с помощью рекуррентной нейронной сети. В отличие от семинарского занятия, Вам необходимо будет работать с отдельными словами, а не буквами.\n",
        "\n",
        "\n",
        "Установим модуль ```datasets```, чтобы нам проще было работать с данными."
      ]
    },
    {
      "cell_type": "code",
      "execution_count": null,
      "metadata": {
        "id": "EOomFc5na52i",
        "outputId": "a1fdf25f-ba28-4a7d-c4d2-9e839cc16ab5"
      },
      "outputs": [
        {
          "data": {
            "text/plain": [
              "'2.18.0'"
            ]
          },
          "execution_count": 1,
          "metadata": {},
          "output_type": "execute_result"
        }
      ],
      "source": [
        "import datasets\n",
        "datasets.__version__"
      ]
    },
    {
      "cell_type": "code",
      "execution_count": null,
      "metadata": {
        "id": "3yvNdv6cp_0P"
      },
      "outputs": [],
      "source": [
        "# !pip install --proxy socks5://localhost:8765 datasets==2.18"
      ]
    },
    {
      "cell_type": "markdown",
      "metadata": {
        "id": "rh9ZXSeCpng9"
      },
      "source": [
        "Импорт необходимых библиотек"
      ]
    },
    {
      "cell_type": "code",
      "execution_count": null,
      "metadata": {
        "id": "XOJi16bLpd_O"
      },
      "outputs": [],
      "source": [
        "import torch\n",
        "import torch.nn as nn\n",
        "from torch.utils.data import Dataset, DataLoader\n",
        "\n",
        "import numpy as np\n",
        "import matplotlib.pyplot as plt\n",
        "\n",
        "from tqdm.auto import tqdm\n",
        "from datasets import load_dataset\n",
        "from nltk.tokenize import sent_tokenize, word_tokenize\n",
        "from sklearn.model_selection import train_test_split\n",
        "import nltk\n",
        "\n",
        "from collections import Counter\n",
        "from typing import List\n",
        "\n",
        "import seaborn\n",
        "seaborn.set(palette='summer')"
      ]
    },
    {
      "cell_type": "code",
      "execution_count": null,
      "metadata": {
        "id": "7ePP6ZoPa52j"
      },
      "outputs": [],
      "source": [
        "from string import punctuation"
      ]
    },
    {
      "cell_type": "code",
      "execution_count": null,
      "metadata": {
        "id": "91JuM0SQvXud",
        "outputId": "997aae23-933f-4d1b-9b45-f8b3f89e317f"
      },
      "outputs": [
        {
          "name": "stderr",
          "output_type": "stream",
          "text": [
            "[nltk_data] Error loading punkt: <urlopen error Tunnel connection\n",
            "[nltk_data]     failed: 407 Proxy Authentication Required>\n"
          ]
        },
        {
          "data": {
            "text/plain": [
              "False"
            ]
          },
          "execution_count": 5,
          "metadata": {},
          "output_type": "execute_result"
        }
      ],
      "source": [
        "nltk.download('punkt')"
      ]
    },
    {
      "cell_type": "code",
      "execution_count": null,
      "metadata": {
        "id": "adJC8ShFq9HM",
        "outputId": "2aa8db75-5529-48b5-fa46-699524362566"
      },
      "outputs": [
        {
          "data": {
            "text/plain": [
              "'cuda'"
            ]
          },
          "execution_count": 6,
          "metadata": {},
          "output_type": "execute_result"
        }
      ],
      "source": [
        "device = 'cuda' if torch.cuda.is_available() else 'cpu'\n",
        "device"
      ]
    },
    {
      "cell_type": "markdown",
      "metadata": {
        "id": "pwsfS1ENq5ig"
      },
      "source": [
        "## Подготовка данных\n",
        "\n",
        "Воспользуемся датасетом imdb. В нем хранятся отзывы о фильмах с сайта imdb. Загрузим данные с помощью функции ```load_dataset```"
      ]
    },
    {
      "cell_type": "code",
      "execution_count": null,
      "metadata": {
        "id": "HrKTCHxra52j"
      },
      "outputs": [],
      "source": [
        "import os\n",
        "os.environ['all_proxy'] = \"socks5://localhost:8765\""
      ]
    },
    {
      "cell_type": "code",
      "execution_count": null,
      "metadata": {
        "id": "qHLNWOfJqSfc"
      },
      "outputs": [],
      "source": [
        "# Загрузим датасет\n",
        "dataset = load_dataset(\"imdb\", split=\"train\")"
      ]
    },
    {
      "cell_type": "markdown",
      "metadata": {
        "id": "24gn7CuZ9agP"
      },
      "source": [
        "### Препроцессинг данных и создание словаря (1 балл)\n",
        "\n",
        "Далее вам необходмо самостоятельно произвести препроцессинг данных и получить словарь или же просто ```set``` строк. Что необходимо сделать:\n",
        "\n",
        "1. Разделить отдельные тренировочные примеры на отдельные предложения с помощью функции ```sent_tokenize``` из бибилиотеки ```nltk```. Каждое отдельное предложение будет одним тренировочным примером.\n",
        "2. Оставить только те предложения, в которых меньше ```word_threshold``` слов.\n",
        "3. Посчитать частоту вхождения каждого слова в оставшихся предложениях. Для деления предлоения на отдельные слова удобно использовать функцию ```word_tokenize```.\n",
        "4. Создать объект ```vocab``` класса ```set```, положить в него служебные токены '\\<unk\\>', '\\<bos\\>', '\\<eos\\>', '\\<pad\\>' и vocab_size самых частовстречающихся слов.   "
      ]
    },
    {
      "cell_type": "code",
      "execution_count": null,
      "metadata": {
        "id": "RQ1VIdbRa52k",
        "outputId": "317b2117-424e-40f9-a68c-2c74c00928b4"
      },
      "outputs": [
        {
          "data": {
            "text/plain": [
              "Dataset({\n",
              "    features: ['text', 'label'],\n",
              "    num_rows: 25000\n",
              "})"
            ]
          },
          "execution_count": 9,
          "metadata": {},
          "output_type": "execute_result"
        }
      ],
      "source": [
        "dataset"
      ]
    },
    {
      "cell_type": "code",
      "execution_count": null,
      "metadata": {
        "id": "HiDAnfR1a52k",
        "outputId": "2d3d35a5-d4c4-41ea-a336-af82ec830b91"
      },
      "outputs": [
        {
          "data": {
            "text/plain": [
              "'!\"#$%&\\'()*+,-./:;<=>?@[\\\\]^_`{|}~'"
            ]
          },
          "execution_count": 10,
          "metadata": {},
          "output_type": "execute_result"
        }
      ],
      "source": [
        "punctuation"
      ]
    },
    {
      "cell_type": "code",
      "execution_count": null,
      "metadata": {
        "id": "Ins2tVCdsS47",
        "scrolled": true,
        "colab": {
          "referenced_widgets": [
            "20f97480b5b64ea19e048809b735a5af"
          ]
        },
        "outputId": "a63e2dcf-35f5-4049-bbb1-42089b8b0682"
      },
      "outputs": [
        {
          "data": {
            "application/vnd.jupyter.widget-view+json": {
              "model_id": "20f97480b5b64ea19e048809b735a5af",
              "version_major": 2,
              "version_minor": 0
            },
            "text/plain": [
              "  0%|          | 0/25000 [00:00<?, ?it/s]"
            ]
          },
          "metadata": {},
          "output_type": "display_data"
        }
      ],
      "source": [
        "sentences = []\n",
        "word_threshold = 32\n",
        "\n",
        "# Получить отдельные предложения и поместить их в sentences\n",
        "for sample in tqdm(dataset):\n",
        "    tmp = sent_tokenize(sample['text'])\n",
        "    tmp = [s.lower() for s in tmp] #.translate(str.maketrans('', '', punctuation))\n",
        "    for sentence in [word_tokenize(s) for s in tmp if len(word_tokenize(s)) < word_threshold]:\n",
        "        sentences.append(sentence)"
      ]
    },
    {
      "cell_type": "code",
      "execution_count": null,
      "metadata": {
        "id": "bxeBxP3J1Rj3",
        "outputId": "0dccd5ae-605d-44f2-d39a-0be0fdd55adb"
      },
      "outputs": [
        {
          "name": "stdout",
          "output_type": "stream",
          "text": [
            "Всего предложений: 198801\n"
          ]
        }
      ],
      "source": [
        "print(\"Всего предложений:\", len(sentences))"
      ]
    },
    {
      "cell_type": "markdown",
      "metadata": {
        "id": "iT82XkT6ULA_"
      },
      "source": [
        "Посчитаем для каждого слова его встречаемость."
      ]
    },
    {
      "cell_type": "code",
      "execution_count": null,
      "metadata": {
        "id": "nEvCN0Y1w1yH",
        "outputId": "ec223445-be3d-49bb-a922-db8c13f6e765"
      },
      "outputs": [
        {
          "name": "stdout",
          "output_type": "stream",
          "text": [
            "CPU times: total: 438 ms\n",
            "Wall time: 431 ms\n"
          ]
        }
      ],
      "source": [
        "%%time\n",
        "# Расчет встречаемости слов\n",
        "words = Counter([i for j in sentences for i in j])"
      ]
    },
    {
      "cell_type": "markdown",
      "metadata": {
        "id": "B4k4uSoHUSI0"
      },
      "source": [
        "Добавим в словарь ```vocab_size``` самых встречающихся слов."
      ]
    },
    {
      "cell_type": "code",
      "execution_count": null,
      "metadata": {
        "id": "oUBNwsK9xLIu",
        "colab": {
          "referenced_widgets": [
            "fc75ae818fcd49e0864e418c5b0f0090"
          ]
        },
        "outputId": "8d44cb96-700a-4b0b-8c9d-97d79e26d542"
      },
      "outputs": [
        {
          "data": {
            "application/vnd.jupyter.widget-view+json": {
              "model_id": "fc75ae818fcd49e0864e418c5b0f0090",
              "version_major": 2,
              "version_minor": 0
            },
            "text/plain": [
              "  0%|          | 0/40000 [00:00<?, ?it/s]"
            ]
          },
          "metadata": {},
          "output_type": "display_data"
        }
      ],
      "source": [
        "vocab = set(['<unk>', '<bos>', '<eos>', '<pad>'])\n",
        "vocab_size = 40000\n",
        "\n",
        "# Наполнение словаря\n",
        "for w in tqdm([k for k, v in sorted(words.items(), key=lambda item: item[1], reverse=True)][:vocab_size]):\n",
        "    vocab.add(w)"
      ]
    },
    {
      "cell_type": "code",
      "execution_count": null,
      "metadata": {
        "id": "ieT0DFUpXnV2"
      },
      "outputs": [],
      "source": [
        "assert '<unk>' in vocab\n",
        "assert '<bos>' in vocab\n",
        "assert '<eos>' in vocab\n",
        "assert '<pad>' in vocab\n",
        "assert len(vocab) == vocab_size + 4"
      ]
    },
    {
      "cell_type": "code",
      "execution_count": null,
      "metadata": {
        "id": "JhACW2CQyck5",
        "outputId": "6ea5ebcb-2214-4d93-e228-bb99f39c62d6"
      },
      "outputs": [
        {
          "name": "stdout",
          "output_type": "stream",
          "text": [
            "Всего слов в словаре: 40004\n"
          ]
        }
      ],
      "source": [
        "print(\"Всего слов в словаре:\", len(vocab))"
      ]
    },
    {
      "cell_type": "markdown",
      "metadata": {
        "id": "UmeRYKSIUcdE"
      },
      "source": [
        "### Подготовка датасета (1 балл)\n",
        "\n",
        "Далее, как и в семинарском занятии, подготовим датасеты и даталоадеры.\n",
        "\n",
        "В классе ```WordDataset``` вам необходимо реализовать метод ```__getitem__```, который будет возвращать сэмпл данных по входному idx, то есть список целых чисел (индексов слов).\n",
        "\n",
        "Внутри этого метода необходимо добавить служебные токены начала и конца последовательности, а также токенизировать соответствующее предложение с помощью ```word_tokenize``` и сопоставить ему индексы из ```word2ind```."
      ]
    },
    {
      "cell_type": "code",
      "execution_count": null,
      "metadata": {
        "id": "iD7SmSy3v2dl"
      },
      "outputs": [],
      "source": [
        "word2ind = {word: i for i, word in enumerate(vocab)}\n",
        "ind2word = {i: word for word, i in word2ind.items()}"
      ]
    },
    {
      "cell_type": "code",
      "execution_count": null,
      "metadata": {
        "id": "FVzXL17PzC7K"
      },
      "outputs": [],
      "source": [
        "class WordDataset:\n",
        "    def __init__(self, sentences):\n",
        "        self.data = sentences\n",
        "        self.unk_id = word2ind['<unk>']\n",
        "        self.bos_id = word2ind['<bos>']\n",
        "        self.eos_id = word2ind['<eos>']\n",
        "        self.pad_id = word2ind['<pad>']\n",
        "\n",
        "    def __getitem__(self, idx: int) -> List[int]:\n",
        "        tokenized_sentence = [self.bos_id]\n",
        "        processed_text = self.data[idx]\n",
        "\n",
        "        tokenized_sentence += [word2ind.get(word, self.unk_id)\n",
        "                               for word in processed_text]\n",
        "        tokenized_sentence += [self.eos_id]\n",
        "\n",
        "        return tokenized_sentence\n",
        "\n",
        "    def __len__(self) -> int:\n",
        "        return len(self.data)"
      ]
    },
    {
      "cell_type": "code",
      "execution_count": null,
      "metadata": {
        "id": "I6CtYNMp2_g0"
      },
      "outputs": [],
      "source": [
        "def collate_fn_with_padding(\n",
        "    input_batch: List[List[int]], pad_id=word2ind['<pad>']) -> torch.Tensor:\n",
        "    seq_lens = [len(x) for x in input_batch]\n",
        "    max_seq_len = max(seq_lens)\n",
        "\n",
        "    new_batch = []\n",
        "    for sequence in input_batch:\n",
        "        for _ in range(max_seq_len - len(sequence)):\n",
        "            sequence.append(pad_id)\n",
        "        new_batch.append(sequence)\n",
        "\n",
        "    sequences = torch.LongTensor(new_batch).to(device)\n",
        "\n",
        "    new_batch = {\n",
        "        'input_ids': sequences[:,:-1],\n",
        "        'target_ids': sequences[:,1:]\n",
        "    }\n",
        "\n",
        "    return new_batch"
      ]
    },
    {
      "cell_type": "code",
      "execution_count": null,
      "metadata": {
        "id": "6xmeK9Ys1BIG"
      },
      "outputs": [],
      "source": [
        "train_sentences, eval_sentences = train_test_split(sentences, test_size=0.2)\n",
        "test_sentences, eval_sentences = train_test_split(eval_sentences, test_size=0.5)\n",
        "\n",
        "train_dataset = WordDataset(train_sentences)\n",
        "eval_dataset = WordDataset(eval_sentences)\n",
        "test_dataset = WordDataset(test_sentences)\n",
        "\n",
        "batch_size = 1000\n",
        "\n",
        "train_dataloader = DataLoader(\n",
        "    train_dataset, collate_fn=collate_fn_with_padding, batch_size=batch_size)\n",
        "\n",
        "eval_dataloader = DataLoader(\n",
        "    eval_dataset, collate_fn=collate_fn_with_padding, batch_size=batch_size)\n",
        "\n",
        "test_dataloader = DataLoader(\n",
        "    test_dataset, collate_fn=collate_fn_with_padding, batch_size=batch_size)"
      ]
    },
    {
      "cell_type": "markdown",
      "metadata": {
        "id": "SMAexY7Y45E4"
      },
      "source": [
        "## Обучение и архитектура модели\n",
        "\n",
        "Вам необходимо на практике проверить, что влияет на качество языковых моделей. В этом задании нужно провести серию экспериментов с различными вариантами языковых моделей и сравнить различия в конечной перплексии на тестовом множестве.\n",
        "\n",
        "Возмоэные идеи для экспериментов:\n",
        "\n",
        "* Различные RNN-блоки, например, LSTM или GRU. Также можно добавить сразу несколько RNN блоков друг над другом с помощью аргумента num_layers. Вам поможет официальная документация [здесь](https://pytorch.org/docs/stable/generated/torch.nn.LSTM.html)\n",
        "* Различные размеры скрытого состояния. Различное количество линейных слоев после RNN-блока. Различные функции активации.\n",
        "* Добавление нормализаций в виде Dropout, BatchNorm или LayerNorm\n",
        "* Различные аргументы для оптимизации, например, подбор оптимального learning rate или тип алгоритма оптимизации SGD, Adam, RMSProp и другие\n",
        "* Любые другие идеи и подходы\n",
        "\n",
        "После проведения экспериментов необходимо составить таблицу результатов, в которой описан каждый эксперимент и посчитана перплексия на тестовом множестве.\n",
        "\n",
        "Учтите, что эксперименты, которые различаются, например, только размером скрытого состояния или количеством линейных слоев считаются, как один эксперимент.\n",
        "\n",
        "Успехов!"
      ]
    },
    {
      "cell_type": "markdown",
      "metadata": {
        "id": "KP1cO-3bmDv9"
      },
      "source": [
        "### Функция evaluate (1 балл)\n",
        "\n",
        "Заполните функцию ```evaluate```"
      ]
    },
    {
      "cell_type": "code",
      "execution_count": null,
      "metadata": {
        "id": "XUlMUVJ3mL4r"
      },
      "outputs": [],
      "source": [
        "def evaluate(model, criterion, dataloader) -> float:\n",
        "    model.eval()\n",
        "    perplexity = []\n",
        "    with torch.no_grad():\n",
        "        for batch in dataloader:\n",
        "            logits = model(batch['input_ids'].flatten(start_dim=0, end_dim=1)) # Посчитайте логиты предсказаний следующих слов\n",
        "            loss = criterion(logits, batch['target_ids'].flatten())\n",
        "            perplexity.append(torch.exp(loss).item())\n",
        "\n",
        "    perplexity = sum(perplexity) / len(perplexity)\n",
        "\n",
        "    return perplexity"
      ]
    },
    {
      "cell_type": "markdown",
      "metadata": {
        "id": "bLV63Vsk7loy"
      },
      "source": [
        "### Train loop (1 балл)\n",
        "\n",
        "Напишите функцию для обучения модели."
      ]
    },
    {
      "cell_type": "code",
      "execution_count": null,
      "metadata": {
        "id": "bSZmUC3YmocP"
      },
      "outputs": [],
      "source": [
        "def train_model(model, train_dataloader, num_epoch=5):\n",
        "    best_score = 10**6\n",
        "    losses = []\n",
        "    acc = []\n",
        "    perplexities = []\n",
        "    criterion=nn.CrossEntropyLoss(ignore_index=word2ind['<pad>'])\n",
        "    optimizer=torch.optim.Adam(model.parameters())\n",
        "\n",
        "    for epoch in range(num_epoch):\n",
        "        epoch_losses = []\n",
        "        model.train()\n",
        "        for i, batch in enumerate(tqdm(train_dataloader, desc=f'Training epoch {epoch}:')):\n",
        "            optimizer.zero_grad()\n",
        "            logits = model(batch['input_ids'].flatten(start_dim=0, end_dim=1))\n",
        "            loss = criterion(logits, batch['target_ids'].flatten())\n",
        "            loss.backward()\n",
        "            optimizer.step()\n",
        "            epoch_losses.append(loss.item())\n",
        "\n",
        "        losses.append(sum(epoch_losses) / len(epoch_losses))\n",
        "        score = evaluate(model, criterion, eval_dataloader)\n",
        "        perplexities.append(score)\n",
        "        if score < best_score:\n",
        "                best_score = score\n",
        "\n",
        "        # очищает выход ячейки, за счет чего вижу анимацию по эпохам\n",
        "        clear_output(wait=True)\n",
        "        fig, (ax1, ax2) = plt.subplots(1, 2, figsize=(15, 5))\n",
        "        ax1.plot(np.arange(len(losses)), losses, marker='o')\n",
        "        ax1.set(title='Losses')\n",
        "        plt.xlabel(\"epoch\")\n",
        "        ax2.plot(np.arange(len(perplexities)), perplexities, marker='o')\n",
        "        ax2.set(title='Perplexity')\n",
        "        plt.xlabel(\"epoch\")\n",
        "        plt.show()\n",
        "\n",
        "    return model, best_score, losses, perplexities"
      ]
    },
    {
      "cell_type": "markdown",
      "metadata": {
        "id": "hXmeyhBQmuq4"
      },
      "source": [
        "### Первый эксперимент (2 балла)\n",
        "\n",
        "Определите архитектуру модели и обучите её."
      ]
    },
    {
      "cell_type": "code",
      "execution_count": null,
      "metadata": {
        "id": "_SieKCVTa52n"
      },
      "outputs": [],
      "source": [
        "class WordGRU(nn.Module):\n",
        "    def __init__(self, hidden_dim: int, vocab_size: int, num_layers=1):\n",
        "        super().__init__()\n",
        "        self.embedding = nn.Embedding(vocab_size, hidden_dim)\n",
        "        self.rnn = nn.GRU(hidden_dim, hidden_dim, num_layers, batch_first=True)\n",
        "        self.linear = nn.Linear(hidden_dim, hidden_dim)\n",
        "        self.projection = nn.Linear(hidden_dim, vocab_size)\n",
        "\n",
        "        self.non_lin = nn.Tanh()\n",
        "        self.dropout = nn.Dropout(p=0.1)\n",
        "\n",
        "    def forward(self, input_batch) -> torch.Tensor:\n",
        "        embeddings = self.embedding(input_batch)  # [batch_size, seq_len, hidden_dim]\n",
        "        output, _ = self.rnn(embeddings)  # [batch_size, seq_len, hidden_dim]\n",
        "        # output = self.dropout(self.linear(self.non_lin(output)))  # [batch_size, seq_len, hidden_dim]\n",
        "        projection = self.projection(self.non_lin(output))  # [batch_size, seq_len, vocab_size]\n",
        "\n",
        "        return projection\n",
        "\n",
        "def generate_sequence(model, starting_seq: str, max_seq_len: int = 32) -> str:\n",
        "    device = 'cpu'\n",
        "    model = model.to(device)\n",
        "    input_ids = [word2ind['<bos>']] + [\n",
        "        word2ind.get(word, word2ind['<unk>']) for word in starting_seq.split()]\n",
        "    input_ids = torch.LongTensor(input_ids).to(device)\n",
        "\n",
        "    model.eval()\n",
        "    with torch.no_grad():\n",
        "        for i in range(max_seq_len):\n",
        "            next_word_distribution = model(input_ids)[-1]\n",
        "            next_word = next_word_distribution.squeeze().argmax()\n",
        "            input_ids = torch.cat([input_ids, next_word.unsqueeze(0)])\n",
        "\n",
        "            if next_word.item() == word2ind['<eos>']:\n",
        "                break\n",
        "\n",
        "    words = ' '.join([ind2word[idx.item()] for idx in input_ids])\n",
        "\n",
        "    return words"
      ]
    },
    {
      "cell_type": "code",
      "execution_count": null,
      "metadata": {
        "id": "BCPvbQtEa52n"
      },
      "outputs": [],
      "source": [
        "from IPython.display import clear_output\n",
        "from collections import defaultdict"
      ]
    },
    {
      "cell_type": "code",
      "execution_count": null,
      "metadata": {
        "scrolled": true,
        "id": "ZiYxLb0Qa52n",
        "outputId": "e69fde83-d40e-473d-d26a-66986ce047a6"
      },
      "outputs": [
        {
          "data": {
            "text/plain": [
              "'cuda'"
            ]
          },
          "execution_count": 25,
          "metadata": {},
          "output_type": "execute_result"
        }
      ],
      "source": [
        "device"
      ]
    },
    {
      "cell_type": "code",
      "execution_count": null,
      "metadata": {
        "id": "Dv0_V152a52n"
      },
      "outputs": [],
      "source": [
        "model = WordGRU(hidden_dim=256, vocab_size=len(vocab)).to(device)"
      ]
    },
    {
      "cell_type": "code",
      "execution_count": null,
      "metadata": {
        "id": "-v7Hsh5Ta52n",
        "outputId": "33f60c42-40ab-4247-ad95-99e8e9e95ced"
      },
      "outputs": [
        {
          "data": {
            "image/png": "[encoded data removed]",
            "text/plain": [
              "<Figure size 1500x500 with 2 Axes>"
            ]
          },
          "metadata": {},
          "output_type": "display_data"
        },
        {
          "name": "stdout",
          "output_type": "stream",
          "text": [
            "CPU times: total: 6min 59s\n",
            "Wall time: 12min 36s\n"
          ]
        }
      ],
      "source": [
        "%%time\n",
        "model, best_base_metric, losses, perplexities = train_model(model, train_dataloader, num_epoch=2)"
      ]
    },
    {
      "cell_type": "code",
      "execution_count": null,
      "metadata": {
        "scrolled": true,
        "id": "xbWg70_pa52o",
        "outputId": "4efa6b1f-4151-4bda-de57-c548311770be"
      },
      "outputs": [
        {
          "data": {
            "text/plain": [
              "191.99947662353514"
            ]
          },
          "execution_count": 29,
          "metadata": {},
          "output_type": "execute_result"
        }
      ],
      "source": [
        "best_base_metric"
      ]
    },
    {
      "cell_type": "code",
      "execution_count": null,
      "metadata": {
        "id": "8PbkrYQha52o"
      },
      "outputs": [],
      "source": [
        "torch.save(model, f'models/base_rnn_{best_base_metric}.pt')"
      ]
    },
    {
      "cell_type": "code",
      "execution_count": null,
      "metadata": {
        "id": "-fZ9VzGRa52p"
      },
      "outputs": [],
      "source": [
        "model = torch.load('models/base_rnn_191.50241394042968.pt')"
      ]
    },
    {
      "cell_type": "code",
      "execution_count": null,
      "metadata": {
        "id": "wCxxjst-a52p",
        "outputId": "ec94ac85-4cd6-46db-d7b2-afc5bbad5855"
      },
      "outputs": [
        {
          "data": {
            "text/plain": [
              "'<bos> when i was a self-conscious sylvia quick-witted transformations granpa granpa upstate wrench quick-draw hodges charger verges self-conscious sylvia obscura transformations granpa granpa upstate wrench quick-draw hodges charger verges self-conscious sylvia obscura transformations granpa granpa upstate wrench'"
            ]
          },
          "execution_count": 32,
          "metadata": {},
          "output_type": "execute_result"
        }
      ],
      "source": [
        "generate_sequence(model, starting_seq='when i was a')"
      ]
    },
    {
      "cell_type": "code",
      "execution_count": null,
      "metadata": {
        "scrolled": true,
        "id": "sK2bESzLa52p"
      },
      "outputs": [],
      "source": [
        "del model\n",
        "torch.cuda.empty_cache()"
      ]
    },
    {
      "cell_type": "markdown",
      "metadata": {
        "id": "X1EW4faIm0tl"
      },
      "source": [
        "### Второй эксперимент (2 балла)\n",
        "\n",
        "Попробуйте что-то поменять в модели или в пайплайне обучения, идеи для экспериментов можно подсмотреть выше."
      ]
    },
    {
      "cell_type": "code",
      "execution_count": null,
      "metadata": {
        "id": "XxXWfjdTa52p"
      },
      "outputs": [],
      "source": [
        "class WordBiLSTM_BN(nn.Module):\n",
        "    def __init__(self, hidden_dim: int, vocab_size: int, num_layers=1):\n",
        "        super().__init__()\n",
        "        self.embedding = nn.Embedding(vocab_size, hidden_dim)\n",
        "        self.rnn = nn.LSTM(hidden_dim, hidden_dim, num_layers, batch_first=True, bidirectional=True)\n",
        "        self.linear = nn.Linear(hidden_dim * 2, hidden_dim)\n",
        "        self.projection = nn.Linear(hidden_dim, vocab_size)\n",
        "        self.bn = nn.BatchNorm1d(hidden_dim)\n",
        "        self.non_lin = nn.Tanh()\n",
        "        self.dropout = nn.Dropout(p=0.1)\n",
        "\n",
        "    def forward(self, input_batch) -> torch.Tensor:\n",
        "        embeddings = self.embedding(input_batch)  # [batch_size, seq_len, hidden_dim]\n",
        "        output, _ = self.rnn(embeddings)  # [batch_size, seq_len, hidden_dim]\n",
        "        output = self.dropout(self.linear(self.non_lin(output)))  # [batch_size, seq_len, hidden_dim]\n",
        "        projection = self.projection(self.bn(self.non_lin(output)))  # [batch_size, seq_len, vocab_size]\n",
        "\n",
        "        return projection"
      ]
    },
    {
      "cell_type": "code",
      "execution_count": null,
      "metadata": {
        "id": "ukamMeWfa52p"
      },
      "outputs": [],
      "source": [
        "class WordBiLSTM_LogSoftmax(nn.Module):\n",
        "    def __init__(self, hidden_dim: int, vocab_size: int, num_layers=1):\n",
        "        super().__init__()\n",
        "        self.embedding = nn.Embedding(vocab_size, hidden_dim)\n",
        "        self.rnn = nn.LSTM(hidden_dim, hidden_dim, num_layers, batch_first=True, bidirectional=True)\n",
        "        self.linear = nn.Linear(hidden_dim * 2, hidden_dim)\n",
        "        self.projection = nn.Linear(hidden_dim, vocab_size)\n",
        "\n",
        "        self.non_lin = nn.LogSoftmax(dim=1)\n",
        "        self.dropout = nn.Dropout(p=0.1)\n",
        "\n",
        "    def forward(self, input_batch) -> torch.Tensor:\n",
        "        embeddings = self.embedding(input_batch)  # [batch_size, seq_len, hidden_dim]\n",
        "        output, _ = self.rnn(embeddings)  # [batch_size, seq_len, hidden_dim]\n",
        "        output = self.dropout(self.linear(self.non_lin(output)))  # [batch_size, seq_len, hidden_dim]\n",
        "        projection = self.projection(self.non_lin(output))  # [batch_size, seq_len, vocab_size]\n",
        "\n",
        "        return projection"
      ]
    },
    {
      "cell_type": "code",
      "execution_count": null,
      "metadata": {
        "id": "iTTQP-w2a52p"
      },
      "outputs": [],
      "source": [
        "class WordBiLSTM(nn.Module):\n",
        "    def __init__(self, hidden_dim: int, vocab_size: int, num_layers=1):\n",
        "        super().__init__()\n",
        "        self.embedding = nn.Embedding(vocab_size, hidden_dim)\n",
        "        self.rnn = nn.LSTM(hidden_dim, hidden_dim, num_layers, batch_first=True, bidirectional=True)\n",
        "        self.linear = nn.Linear(hidden_dim * 2, hidden_dim)\n",
        "        self.projection = nn.Linear(hidden_dim, vocab_size)\n",
        "\n",
        "        self.non_lin = nn.Tanh()\n",
        "        self.dropout = nn.Dropout(p=0.1)\n",
        "\n",
        "    def forward(self, input_batch) -> torch.Tensor:\n",
        "        embeddings = self.embedding(input_batch)  # [batch_size, seq_len, hidden_dim]\n",
        "        output, _ = self.rnn(embeddings)  # [batch_size, seq_len, hidden_dim]\n",
        "        output = self.dropout(self.linear(self.non_lin(output)))  # [batch_size, seq_len, hidden_dim]\n",
        "        projection = self.projection(self.non_lin(output))  # [batch_size, seq_len, vocab_size]\n",
        "\n",
        "        return projection"
      ]
    },
    {
      "cell_type": "code",
      "execution_count": null,
      "metadata": {
        "id": "DcdhWUZta52q"
      },
      "outputs": [],
      "source": [
        "class WordLSTM_ReLU(nn.Module):\n",
        "    def __init__(self, hidden_dim: int, vocab_size: int, num_layers=1):\n",
        "        super().__init__()\n",
        "        self.embedding = nn.Embedding(vocab_size, hidden_dim)\n",
        "        self.rnn = nn.LSTM(hidden_dim, hidden_dim, num_layers, batch_first=True)\n",
        "        self.linear = nn.Linear(hidden_dim, hidden_dim)\n",
        "        self.projection = nn.Linear(hidden_dim, vocab_size)\n",
        "\n",
        "        self.non_lin = nn.ReLU()\n",
        "        self.dropout = nn.Dropout(p=0.1)\n",
        "\n",
        "    def forward(self, input_batch) -> torch.Tensor:\n",
        "        embeddings = self.embedding(input_batch)  # [batch_size, seq_len, hidden_dim]\n",
        "        output, _ = self.rnn(embeddings)  # [batch_size, seq_len, hidden_dim]\n",
        "        output = self.dropout(self.linear(self.non_lin(output)))  # [batch_size, seq_len, hidden_dim]\n",
        "        projection = self.projection(self.non_lin(output))  # [batch_size, seq_len, vocab_size]\n",
        "\n",
        "        return projection"
      ]
    },
    {
      "cell_type": "code",
      "execution_count": null,
      "metadata": {
        "id": "snUAuxgOa52q"
      },
      "outputs": [],
      "source": [
        "class WordLSTM(nn.Module):\n",
        "    def __init__(self, hidden_dim: int, vocab_size: int, num_layers=1):\n",
        "        super().__init__()\n",
        "        self.embedding = nn.Embedding(vocab_size, hidden_dim)\n",
        "        self.rnn = nn.LSTM(hidden_dim, hidden_dim, num_layers, batch_first=True)\n",
        "        self.linear = nn.Linear(hidden_dim, hidden_dim)\n",
        "        self.projection = nn.Linear(hidden_dim, vocab_size)\n",
        "\n",
        "        self.non_lin = nn.Tanh()\n",
        "        self.dropout = nn.Dropout(p=0.1)\n",
        "\n",
        "    def forward(self, input_batch) -> torch.Tensor:\n",
        "        embeddings = self.embedding(input_batch)  # [batch_size, seq_len, hidden_dim]\n",
        "        output, _ = self.rnn(embeddings)  # [batch_size, seq_len, hidden_dim]\n",
        "        output = self.dropout(self.linear(self.non_lin(output)))  # [batch_size, seq_len, hidden_dim]\n",
        "        projection = self.projection(self.non_lin(output))  # [batch_size, seq_len, vocab_size]\n",
        "\n",
        "        return projection"
      ]
    },
    {
      "cell_type": "code",
      "execution_count": null,
      "metadata": {
        "id": "1IDTyOiEa52q"
      },
      "outputs": [],
      "source": [
        "train_sentences, eval_sentences = train_test_split(sentences, test_size=0.2)\n",
        "eval_sentences, test_sentences = train_test_split(eval_sentences, test_size=0.5)\n",
        "\n",
        "train_dataset = WordDataset(train_sentences)\n",
        "eval_dataset = WordDataset(eval_sentences)\n",
        "test_dataset = WordDataset(test_sentences)\n",
        "\n",
        "batch_size = 1000\n",
        "\n",
        "train_dataloader = DataLoader(\n",
        "    train_dataset, collate_fn=collate_fn_with_padding, batch_size=batch_size)\n",
        "\n",
        "eval_dataloader = DataLoader(\n",
        "    eval_dataset, collate_fn=collate_fn_with_padding, batch_size=batch_size)\n",
        "\n",
        "test_dataloader = DataLoader(\n",
        "    test_dataset, collate_fn=collate_fn_with_padding, batch_size=batch_size)"
      ]
    },
    {
      "cell_type": "code",
      "execution_count": null,
      "metadata": {
        "id": "QMtLJ2Qya52q",
        "outputId": "9ffe05ee-ff17-44b2-8a65-6970c1df1d7d"
      },
      "outputs": [
        {
          "data": {
            "image/png": "[encoded data removed]",
            "text/plain": [
              "<Figure size 1500x500 with 2 Axes>"
            ]
          },
          "metadata": {},
          "output_type": "display_data"
        },
        {
          "name": "stdout",
          "output_type": "stream",
          "text": [
            "CPU times: total: 3h 44min 54s\n",
            "Wall time: 5h 2min 26s\n"
          ]
        }
      ],
      "source": [
        "%%time\n",
        "results = defaultdict(list)\n",
        "\n",
        "best_of_best = best_base_metric\n",
        "\n",
        "for arch in tqdm([WordGRU, WordLSTM, WordLSTM_ReLU, WordBiLSTM, WordBiLSTM_BN, WordBiLSTM_LogSoftmax], position=0, leave=True):\n",
        "    for hidden_dim in [128, 256, 512]:\n",
        "        print(arch.__name__)\n",
        "        results['class'].append(arch.__name__)\n",
        "        model = arch(hidden_dim=hidden_dim, vocab_size=len(vocab)).to(device)\n",
        "        model, best_metric, losses, perplexities = train_model(model, train_dataloader, num_epoch=3)\n",
        "        results['best_metric'].append(best_metric)\n",
        "        results['losses'].append(losses)\n",
        "        results['perplexities'].append(perplexities)\n",
        "        results['hidden_dim'].append(hidden_dim)\n",
        "        results['sample'].append(generate_sequence(model, starting_seq='when i was a'))\n",
        "        if best_metric < best_base_metric:\n",
        "            torch.save(model, f'models/{arch.__name__}_{hidden_dim}_{best_metric}.pt')\n",
        "        del model\n",
        "        torch.cuda.empty_cache()"
      ]
    },
    {
      "cell_type": "code",
      "execution_count": null,
      "metadata": {
        "id": "ElQW3vOia52q"
      },
      "outputs": [],
      "source": [
        "import pandas as pd\n",
        "df_result = pd.DataFrame(results)"
      ]
    },
    {
      "cell_type": "code",
      "execution_count": null,
      "metadata": {
        "id": "dDn3Ozjja52q",
        "outputId": "c146d17b-cedd-49c9-f233-78e575aa0e24"
      },
      "outputs": [
        {
          "data": {
            "text/plain": [
              "0           <bos> when i was a lot of the movie . <eos>\n",
              "1                 <bos> when i was a good movie . <eos>\n",
              "2            <bos> when i was a fan of the film . <eos>\n",
              "3                      <bos> when i was a <unk> . <eos>\n",
              "4                 <bos> when i was a good movie . <eos>\n",
              "5           <bos> when i was a fan of the movie . <eos>\n",
              "6                       <bos> when i was a good . <eos>\n",
              "7                 <bos> when i was a good movie . <eos>\n",
              "8           <bos> when i was a lot of the movie . <eos>\n",
              "9     <bos> when i was a have have have have have ha...\n",
              "10    <bos> when i was a hope attractive slow attrac...\n",
              "11    <bos> when i was a clue toward toward toward t...\n",
              "12    <bos> when i was a andreas ajax well-rounded c...\n",
              "13    <bos> when i was a weak element element elemen...\n",
              "14    <bos> when i was a considerable considerable c...\n",
              "15    <bos> when i was a good good good good good go...\n",
              "16    <bos> when i was a big big big big big big big...\n",
              "17    <bos> when i was a good good movie that that '...\n",
              "Name: sample, dtype: object"
            ]
          },
          "execution_count": 42,
          "metadata": {},
          "output_type": "execute_result"
        }
      ],
      "source": [
        "df_result['sample']"
      ]
    },
    {
      "cell_type": "code",
      "execution_count": null,
      "metadata": {
        "id": "AF4QUHpCa52r"
      },
      "outputs": [],
      "source": [
        "model = torch.load('models/WordBiLSTM_BN_512_1.048949259519577.pt')"
      ]
    },
    {
      "cell_type": "code",
      "execution_count": null,
      "metadata": {
        "id": "ySKxZY6Ma52r",
        "outputId": "5967f477-f343-485b-a684-0886b191ce24"
      },
      "outputs": [
        {
          "data": {
            "text/plain": [
              "'<bos> the film was caring caring caring caring caring caring caring caring caring caring caring caring caring caring caring caring caring caring caring caring caring caring caring caring caring caring caring caring caring caring caring caring'"
            ]
          },
          "execution_count": 60,
          "metadata": {},
          "output_type": "execute_result"
        }
      ],
      "source": [
        "generate_sequence(model, 'the film was', 32)"
      ]
    },
    {
      "cell_type": "code",
      "execution_count": null,
      "metadata": {
        "id": "BWtXsjisa52r"
      },
      "outputs": [],
      "source": [
        "model = torch.load('models/WordGRU_512_120.56838417053223.pt')"
      ]
    },
    {
      "cell_type": "code",
      "execution_count": null,
      "metadata": {
        "id": "0JZKQI88a52r",
        "outputId": "82a73b83-bb75-4816-be3c-409b3d534684"
      },
      "outputs": [
        {
          "data": {
            "text/plain": [
              "\"<bos> the film was flicks humbly bi-sexual dudettes dudettes 'tribe groaningly expanded back-drop fortuneately distinctively back-drop fortuneately distinctively back-drop fortuneately distinctively back-drop fortuneately distinctively back-drop fortuneately distinctively back-drop fortuneately distinctively back-drop fortuneately elegiac distinctively eager back-drop\""
            ]
          },
          "execution_count": 57,
          "metadata": {},
          "output_type": "execute_result"
        }
      ],
      "source": [
        "generate_sequence(model, 'the film was', 32)"
      ]
    },
    {
      "cell_type": "markdown",
      "metadata": {
        "id": "Y5V9H3eoFeAu"
      },
      "source": [
        "### Отчет (2 балла)"
      ]
    },
    {
      "cell_type": "markdown",
      "metadata": {
        "id": "slKE_fnpa52s"
      },
      "source": [
        "Текст был выделен строчными буквами, а знаки препинания не были удалены.\n",
        "\n",
        "Испробовано:\n",
        "- Изменения базового слоя (GRU, LSTM, BidirectionalLSTM)\n",
        "- Функции активации (Tanh, ReLU, LogSoftmax)\n",
        "- Размеры скрытого слоя (128, 256, 512)\n",
        "- Пакетная нормализация\n",
        "\n",
        "\n",
        "Bilstm значительно улучшил показатели (с 100+ до 20+), но конечный результат не нравится."
      ]
    },
    {
      "cell_type": "code",
      "execution_count": null,
      "metadata": {
        "id": "M2GCDVeeF8LP",
        "outputId": "a37ab766-c6a4-487b-ccbf-70d44065330a"
      },
      "outputs": [
        {
          "data": {
            "text/html": [
              "<div>\n",
              "<style scoped>\n",
              "    .dataframe tbody tr th:only-of-type {\n",
              "        vertical-align: middle;\n",
              "    }\n",
              "\n",
              "    .dataframe tbody tr th {\n",
              "        vertical-align: top;\n",
              "    }\n",
              "\n",
              "    .dataframe thead th {\n",
              "        text-align: right;\n",
              "    }\n",
              "</style>\n",
              "<table border=\"1\" class=\"dataframe\">\n",
              "  <thead>\n",
              "    <tr style=\"text-align: right;\">\n",
              "      <th></th>\n",
              "      <th>class</th>\n",
              "      <th>best_metric</th>\n",
              "      <th>losses</th>\n",
              "      <th>perplexities</th>\n",
              "      <th>hidden_dim</th>\n",
              "      <th>sample</th>\n",
              "    </tr>\n",
              "  </thead>\n",
              "  <tbody>\n",
              "    <tr>\n",
              "      <th>14</th>\n",
              "      <td>WordBiLSTM_BN</td>\n",
              "      <td>1.048949</td>\n",
              "      <td>[1.6769027571193873, 0.06797040403471329, 0.00...</td>\n",
              "      <td>[1.2206207931041717, 1.0654442071914674, 1.048...</td>\n",
              "      <td>512</td>\n",
              "      <td>&lt;bos&gt; when i was a considerable considerable c...</td>\n",
              "    </tr>\n",
              "    <tr>\n",
              "      <th>13</th>\n",
              "      <td>WordBiLSTM_BN</td>\n",
              "      <td>1.061727</td>\n",
              "      <td>[2.547537976130843, 0.20035671796649696, 0.035...</td>\n",
              "      <td>[1.597392052412033, 1.1232259631156922, 1.0617...</td>\n",
              "      <td>256</td>\n",
              "      <td>&lt;bos&gt; when i was a weak element element elemen...</td>\n",
              "    </tr>\n",
              "    <tr>\n",
              "      <th>11</th>\n",
              "      <td>WordBiLSTM</td>\n",
              "      <td>1.130886</td>\n",
              "      <td>[3.658856464922428, 0.5278837418183684, 0.1590...</td>\n",
              "      <td>[2.7019976139068604, 1.2914586246013642, 1.130...</td>\n",
              "      <td>512</td>\n",
              "      <td>&lt;bos&gt; when i was a clue toward toward toward t...</td>\n",
              "    </tr>\n",
              "    <tr>\n",
              "      <th>12</th>\n",
              "      <td>WordBiLSTM_BN</td>\n",
              "      <td>1.147291</td>\n",
              "      <td>[3.811568433791399, 0.5827981373295188, 0.1666...</td>\n",
              "      <td>[3.383697485923767, 1.3488839268684387, 1.1472...</td>\n",
              "      <td>128</td>\n",
              "      <td>&lt;bos&gt; when i was a andreas ajax well-rounded c...</td>\n",
              "    </tr>\n",
              "    <tr>\n",
              "      <th>10</th>\n",
              "      <td>WordBiLSTM</td>\n",
              "      <td>1.512327</td>\n",
              "      <td>[5.181415812671185, 1.569058407843113, 0.62200...</td>\n",
              "      <td>[13.3029709815979, 2.3194469690322874, 1.51232...</td>\n",
              "      <td>256</td>\n",
              "      <td>&lt;bos&gt; when i was a hope attractive slow attrac...</td>\n",
              "    </tr>\n",
              "    <tr>\n",
              "      <th>9</th>\n",
              "      <td>WordBiLSTM</td>\n",
              "      <td>9.374864</td>\n",
              "      <td>[6.643717557191849, 4.8454209342598915, 3.0054...</td>\n",
              "      <td>[296.9492874145508, 41.64226531982422, 9.37486...</td>\n",
              "      <td>128</td>\n",
              "      <td>&lt;bos&gt; when i was a have have have have have ha...</td>\n",
              "    </tr>\n",
              "    <tr>\n",
              "      <th>16</th>\n",
              "      <td>WordBiLSTM_LogSoftmax</td>\n",
              "      <td>11.325349</td>\n",
              "      <td>[6.509533256292343, 4.189793799817562, 2.98134...</td>\n",
              "      <td>[122.58927383422852, 38.02282295227051, 11.325...</td>\n",
              "      <td>256</td>\n",
              "      <td>&lt;bos&gt; when i was a big big big big big big big...</td>\n",
              "    </tr>\n",
              "    <tr>\n",
              "      <th>15</th>\n",
              "      <td>WordBiLSTM_LogSoftmax</td>\n",
              "      <td>13.351781</td>\n",
              "      <td>[6.439485684037209, 4.518109668791294, 3.20284...</td>\n",
              "      <td>[180.45160751342775, 47.31450977325439, 13.351...</td>\n",
              "      <td>128</td>\n",
              "      <td>&lt;bos&gt; when i was a good good good good good go...</td>\n",
              "    </tr>\n",
              "    <tr>\n",
              "      <th>17</th>\n",
              "      <td>WordBiLSTM_LogSoftmax</td>\n",
              "      <td>20.148784</td>\n",
              "      <td>[12.742815831303597, 4.2230703547596935, 3.387...</td>\n",
              "      <td>[116.96376838684083, 50.361267471313475, 20.14...</td>\n",
              "      <td>512</td>\n",
              "      <td>&lt;bos&gt; when i was a good good movie that that '...</td>\n",
              "    </tr>\n",
              "    <tr>\n",
              "      <th>2</th>\n",
              "      <td>WordGRU</td>\n",
              "      <td>120.690134</td>\n",
              "      <td>[5.861846339702606, 5.027308577299118, 4.75378...</td>\n",
              "      <td>[188.08006744384767, 140.21577072143555, 120.6...</td>\n",
              "      <td>512</td>\n",
              "      <td>&lt;bos&gt; when i was a fan of the film . &lt;eos&gt;</td>\n",
              "    </tr>\n",
              "    <tr>\n",
              "      <th>5</th>\n",
              "      <td>WordLSTM</td>\n",
              "      <td>132.505728</td>\n",
              "      <td>[6.120258012413979, 5.21372289955616, 4.913576...</td>\n",
              "      <td>[236.85146102905273, 161.1482940673828, 132.50...</td>\n",
              "      <td>512</td>\n",
              "      <td>&lt;bos&gt; when i was a fan of the movie . &lt;eos&gt;</td>\n",
              "    </tr>\n",
              "    <tr>\n",
              "      <th>8</th>\n",
              "      <td>WordLSTM_ReLU</td>\n",
              "      <td>135.288235</td>\n",
              "      <td>[5.988433629274368, 5.142225894331932, 4.89729...</td>\n",
              "      <td>[205.29025115966797, 155.39866333007814, 135.2...</td>\n",
              "      <td>512</td>\n",
              "      <td>&lt;bos&gt; when i was a lot of the movie . &lt;eos&gt;</td>\n",
              "    </tr>\n",
              "    <tr>\n",
              "      <th>1</th>\n",
              "      <td>WordGRU</td>\n",
              "      <td>156.966335</td>\n",
              "      <td>[6.291925919055939, 5.361767286062241, 5.09333...</td>\n",
              "      <td>[263.24518127441405, 186.8353370666504, 156.96...</td>\n",
              "      <td>256</td>\n",
              "      <td>&lt;bos&gt; when i was a good movie . &lt;eos&gt;</td>\n",
              "    </tr>\n",
              "    <tr>\n",
              "      <th>4</th>\n",
              "      <td>WordLSTM</td>\n",
              "      <td>169.379147</td>\n",
              "      <td>[6.463971436023712, 5.504073026776314, 5.19759...</td>\n",
              "      <td>[328.9070388793945, 206.67255172729492, 169.37...</td>\n",
              "      <td>256</td>\n",
              "      <td>&lt;bos&gt; when i was a good movie . &lt;eos&gt;</td>\n",
              "    </tr>\n",
              "    <tr>\n",
              "      <th>7</th>\n",
              "      <td>WordLSTM_ReLU</td>\n",
              "      <td>173.971288</td>\n",
              "      <td>[6.412814584374428, 5.464405032992363, 5.21084...</td>\n",
              "      <td>[292.319677734375, 202.99712829589845, 173.971...</td>\n",
              "      <td>256</td>\n",
              "      <td>&lt;bos&gt; when i was a good movie . &lt;eos&gt;</td>\n",
              "    </tr>\n",
              "    <tr>\n",
              "      <th>6</th>\n",
              "      <td>WordLSTM_ReLU</td>\n",
              "      <td>208.943498</td>\n",
              "      <td>[6.785466903448105, 5.778506499528885, 5.44376...</td>\n",
              "      <td>[408.55560302734375, 257.47751770019534, 208.9...</td>\n",
              "      <td>128</td>\n",
              "      <td>&lt;bos&gt; when i was a good . &lt;eos&gt;</td>\n",
              "    </tr>\n",
              "    <tr>\n",
              "      <th>0</th>\n",
              "      <td>WordGRU</td>\n",
              "      <td>217.031528</td>\n",
              "      <td>[6.816529956459999, 5.7924035638570786, 5.4637...</td>\n",
              "      <td>[410.6404556274414, 272.70497741699216, 217.03...</td>\n",
              "      <td>128</td>\n",
              "      <td>&lt;bos&gt; when i was a lot of the movie . &lt;eos&gt;</td>\n",
              "    </tr>\n",
              "    <tr>\n",
              "      <th>3</th>\n",
              "      <td>WordLSTM</td>\n",
              "      <td>258.070562</td>\n",
              "      <td>[6.834725159406662, 6.036291003227234, 5.69818...</td>\n",
              "      <td>[484.73391876220705, 357.6779190063477, 258.07...</td>\n",
              "      <td>128</td>\n",
              "      <td>&lt;bos&gt; when i was a &lt;unk&gt; . &lt;eos&gt;</td>\n",
              "    </tr>\n",
              "  </tbody>\n",
              "</table>\n",
              "</div>"
            ],
            "text/plain": [
              "                    class  best_metric  \\\n",
              "14          WordBiLSTM_BN     1.048949   \n",
              "13          WordBiLSTM_BN     1.061727   \n",
              "11             WordBiLSTM     1.130886   \n",
              "12          WordBiLSTM_BN     1.147291   \n",
              "10             WordBiLSTM     1.512327   \n",
              "9              WordBiLSTM     9.374864   \n",
              "16  WordBiLSTM_LogSoftmax    11.325349   \n",
              "15  WordBiLSTM_LogSoftmax    13.351781   \n",
              "17  WordBiLSTM_LogSoftmax    20.148784   \n",
              "2                 WordGRU   120.690134   \n",
              "5                WordLSTM   132.505728   \n",
              "8           WordLSTM_ReLU   135.288235   \n",
              "1                 WordGRU   156.966335   \n",
              "4                WordLSTM   169.379147   \n",
              "7           WordLSTM_ReLU   173.971288   \n",
              "6           WordLSTM_ReLU   208.943498   \n",
              "0                 WordGRU   217.031528   \n",
              "3                WordLSTM   258.070562   \n",
              "\n",
              "                                               losses  \\\n",
              "14  [1.6769027571193873, 0.06797040403471329, 0.00...   \n",
              "13  [2.547537976130843, 0.20035671796649696, 0.035...   \n",
              "11  [3.658856464922428, 0.5278837418183684, 0.1590...   \n",
              "12  [3.811568433791399, 0.5827981373295188, 0.1666...   \n",
              "10  [5.181415812671185, 1.569058407843113, 0.62200...   \n",
              "9   [6.643717557191849, 4.8454209342598915, 3.0054...   \n",
              "16  [6.509533256292343, 4.189793799817562, 2.98134...   \n",
              "15  [6.439485684037209, 4.518109668791294, 3.20284...   \n",
              "17  [12.742815831303597, 4.2230703547596935, 3.387...   \n",
              "2   [5.861846339702606, 5.027308577299118, 4.75378...   \n",
              "5   [6.120258012413979, 5.21372289955616, 4.913576...   \n",
              "8   [5.988433629274368, 5.142225894331932, 4.89729...   \n",
              "1   [6.291925919055939, 5.361767286062241, 5.09333...   \n",
              "4   [6.463971436023712, 5.504073026776314, 5.19759...   \n",
              "7   [6.412814584374428, 5.464405032992363, 5.21084...   \n",
              "6   [6.785466903448105, 5.778506499528885, 5.44376...   \n",
              "0   [6.816529956459999, 5.7924035638570786, 5.4637...   \n",
              "3   [6.834725159406662, 6.036291003227234, 5.69818...   \n",
              "\n",
              "                                         perplexities  hidden_dim  \\\n",
              "14  [1.2206207931041717, 1.0654442071914674, 1.048...         512   \n",
              "13  [1.597392052412033, 1.1232259631156922, 1.0617...         256   \n",
              "11  [2.7019976139068604, 1.2914586246013642, 1.130...         512   \n",
              "12  [3.383697485923767, 1.3488839268684387, 1.1472...         128   \n",
              "10  [13.3029709815979, 2.3194469690322874, 1.51232...         256   \n",
              "9   [296.9492874145508, 41.64226531982422, 9.37486...         128   \n",
              "16  [122.58927383422852, 38.02282295227051, 11.325...         256   \n",
              "15  [180.45160751342775, 47.31450977325439, 13.351...         128   \n",
              "17  [116.96376838684083, 50.361267471313475, 20.14...         512   \n",
              "2   [188.08006744384767, 140.21577072143555, 120.6...         512   \n",
              "5   [236.85146102905273, 161.1482940673828, 132.50...         512   \n",
              "8   [205.29025115966797, 155.39866333007814, 135.2...         512   \n",
              "1   [263.24518127441405, 186.8353370666504, 156.96...         256   \n",
              "4   [328.9070388793945, 206.67255172729492, 169.37...         256   \n",
              "7   [292.319677734375, 202.99712829589845, 173.971...         256   \n",
              "6   [408.55560302734375, 257.47751770019534, 208.9...         128   \n",
              "0   [410.6404556274414, 272.70497741699216, 217.03...         128   \n",
              "3   [484.73391876220705, 357.6779190063477, 258.07...         128   \n",
              "\n",
              "                                               sample  \n",
              "14  <bos> when i was a considerable considerable c...  \n",
              "13  <bos> when i was a weak element element elemen...  \n",
              "11  <bos> when i was a clue toward toward toward t...  \n",
              "12  <bos> when i was a andreas ajax well-rounded c...  \n",
              "10  <bos> when i was a hope attractive slow attrac...  \n",
              "9   <bos> when i was a have have have have have ha...  \n",
              "16  <bos> when i was a big big big big big big big...  \n",
              "15  <bos> when i was a good good good good good go...  \n",
              "17  <bos> when i was a good good movie that that '...  \n",
              "2          <bos> when i was a fan of the film . <eos>  \n",
              "5         <bos> when i was a fan of the movie . <eos>  \n",
              "8         <bos> when i was a lot of the movie . <eos>  \n",
              "1               <bos> when i was a good movie . <eos>  \n",
              "4               <bos> when i was a good movie . <eos>  \n",
              "7               <bos> when i was a good movie . <eos>  \n",
              "6                     <bos> when i was a good . <eos>  \n",
              "0         <bos> when i was a lot of the movie . <eos>  \n",
              "3                    <bos> when i was a <unk> . <eos>  "
            ]
          },
          "execution_count": 49,
          "metadata": {},
          "output_type": "execute_result"
        }
      ],
      "source": [
        "df_result.sort_values('best_metric')"
      ]
    }
  ],
  "metadata": {
    "accelerator": "GPU",
    "colab": {
      "provenance": []
    },
    "gpuClass": "standard",
    "kernelspec": {
      "display_name": "Python 3 (ipykernel)",
      "language": "python",
      "name": "python3"
    },
    "language_info": {
      "codemirror_mode": {
        "name": "ipython",
        "version": 3
      },
      "file_extension": ".py",
      "mimetype": "text/x-python",
      "name": "python",
      "nbconvert_exporter": "python",
      "pygments_lexer": "ipython3",
      "version": "3.11.5"
    }
  },
  "nbformat": 4,
  "nbformat_minor": 0
}